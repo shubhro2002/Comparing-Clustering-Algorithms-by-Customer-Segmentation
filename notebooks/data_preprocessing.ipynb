{
 "cells": [
  {
   "cell_type": "markdown",
   "id": "00b7421d-9cd8-4465-84ca-8545c48f47cd",
   "metadata": {},
   "source": [
    "## Import Libraries"
   ]
  },
  {
   "cell_type": "code",
   "execution_count": 2,
   "id": "89dd0600-d15d-4695-8b6f-4e70d04488fe",
   "metadata": {},
   "outputs": [],
   "source": [
    "import pandas as pd\n",
    "import numpy as np\n",
    "from sklearn.preprocessing import StandardScaler"
   ]
  },
  {
   "cell_type": "code",
   "execution_count": 3,
   "id": "fd4554c2-b2d8-4ac6-b71c-23b6c743efde",
   "metadata": {},
   "outputs": [
    {
     "data": {
      "text/html": [
       "<div>\n",
       "<style scoped>\n",
       "    .dataframe tbody tr th:only-of-type {\n",
       "        vertical-align: middle;\n",
       "    }\n",
       "\n",
       "    .dataframe tbody tr th {\n",
       "        vertical-align: top;\n",
       "    }\n",
       "\n",
       "    .dataframe thead th {\n",
       "        text-align: right;\n",
       "    }\n",
       "</style>\n",
       "<table border=\"1\" class=\"dataframe\">\n",
       "  <thead>\n",
       "    <tr style=\"text-align: right;\">\n",
       "      <th></th>\n",
       "      <th>ID</th>\n",
       "      <th>Year_Birth</th>\n",
       "      <th>Education</th>\n",
       "      <th>Marital_Status</th>\n",
       "      <th>Income</th>\n",
       "      <th>Kidhome</th>\n",
       "      <th>Teenhome</th>\n",
       "      <th>Dt_Customer</th>\n",
       "      <th>Recency</th>\n",
       "      <th>MntWines</th>\n",
       "      <th>...</th>\n",
       "      <th>NumWebVisitsMonth</th>\n",
       "      <th>AcceptedCmp3</th>\n",
       "      <th>AcceptedCmp4</th>\n",
       "      <th>AcceptedCmp5</th>\n",
       "      <th>AcceptedCmp1</th>\n",
       "      <th>AcceptedCmp2</th>\n",
       "      <th>Complain</th>\n",
       "      <th>Z_CostContact</th>\n",
       "      <th>Z_Revenue</th>\n",
       "      <th>Response</th>\n",
       "    </tr>\n",
       "  </thead>\n",
       "  <tbody>\n",
       "    <tr>\n",
       "      <th>0</th>\n",
       "      <td>5524</td>\n",
       "      <td>1957</td>\n",
       "      <td>Graduation</td>\n",
       "      <td>Single</td>\n",
       "      <td>58138.0</td>\n",
       "      <td>0</td>\n",
       "      <td>0</td>\n",
       "      <td>04-09-2012</td>\n",
       "      <td>58</td>\n",
       "      <td>635</td>\n",
       "      <td>...</td>\n",
       "      <td>7</td>\n",
       "      <td>0</td>\n",
       "      <td>0</td>\n",
       "      <td>0</td>\n",
       "      <td>0</td>\n",
       "      <td>0</td>\n",
       "      <td>0</td>\n",
       "      <td>3</td>\n",
       "      <td>11</td>\n",
       "      <td>1</td>\n",
       "    </tr>\n",
       "    <tr>\n",
       "      <th>1</th>\n",
       "      <td>2174</td>\n",
       "      <td>1954</td>\n",
       "      <td>Graduation</td>\n",
       "      <td>Single</td>\n",
       "      <td>46344.0</td>\n",
       "      <td>1</td>\n",
       "      <td>1</td>\n",
       "      <td>08-03-2014</td>\n",
       "      <td>38</td>\n",
       "      <td>11</td>\n",
       "      <td>...</td>\n",
       "      <td>5</td>\n",
       "      <td>0</td>\n",
       "      <td>0</td>\n",
       "      <td>0</td>\n",
       "      <td>0</td>\n",
       "      <td>0</td>\n",
       "      <td>0</td>\n",
       "      <td>3</td>\n",
       "      <td>11</td>\n",
       "      <td>0</td>\n",
       "    </tr>\n",
       "    <tr>\n",
       "      <th>2</th>\n",
       "      <td>4141</td>\n",
       "      <td>1965</td>\n",
       "      <td>Graduation</td>\n",
       "      <td>Together</td>\n",
       "      <td>71613.0</td>\n",
       "      <td>0</td>\n",
       "      <td>0</td>\n",
       "      <td>21-08-2013</td>\n",
       "      <td>26</td>\n",
       "      <td>426</td>\n",
       "      <td>...</td>\n",
       "      <td>4</td>\n",
       "      <td>0</td>\n",
       "      <td>0</td>\n",
       "      <td>0</td>\n",
       "      <td>0</td>\n",
       "      <td>0</td>\n",
       "      <td>0</td>\n",
       "      <td>3</td>\n",
       "      <td>11</td>\n",
       "      <td>0</td>\n",
       "    </tr>\n",
       "    <tr>\n",
       "      <th>3</th>\n",
       "      <td>6182</td>\n",
       "      <td>1984</td>\n",
       "      <td>Graduation</td>\n",
       "      <td>Together</td>\n",
       "      <td>26646.0</td>\n",
       "      <td>1</td>\n",
       "      <td>0</td>\n",
       "      <td>10-02-2014</td>\n",
       "      <td>26</td>\n",
       "      <td>11</td>\n",
       "      <td>...</td>\n",
       "      <td>6</td>\n",
       "      <td>0</td>\n",
       "      <td>0</td>\n",
       "      <td>0</td>\n",
       "      <td>0</td>\n",
       "      <td>0</td>\n",
       "      <td>0</td>\n",
       "      <td>3</td>\n",
       "      <td>11</td>\n",
       "      <td>0</td>\n",
       "    </tr>\n",
       "    <tr>\n",
       "      <th>4</th>\n",
       "      <td>5324</td>\n",
       "      <td>1981</td>\n",
       "      <td>PhD</td>\n",
       "      <td>Married</td>\n",
       "      <td>58293.0</td>\n",
       "      <td>1</td>\n",
       "      <td>0</td>\n",
       "      <td>19-01-2014</td>\n",
       "      <td>94</td>\n",
       "      <td>173</td>\n",
       "      <td>...</td>\n",
       "      <td>5</td>\n",
       "      <td>0</td>\n",
       "      <td>0</td>\n",
       "      <td>0</td>\n",
       "      <td>0</td>\n",
       "      <td>0</td>\n",
       "      <td>0</td>\n",
       "      <td>3</td>\n",
       "      <td>11</td>\n",
       "      <td>0</td>\n",
       "    </tr>\n",
       "    <tr>\n",
       "      <th>5</th>\n",
       "      <td>7446</td>\n",
       "      <td>1967</td>\n",
       "      <td>Master</td>\n",
       "      <td>Together</td>\n",
       "      <td>62513.0</td>\n",
       "      <td>0</td>\n",
       "      <td>1</td>\n",
       "      <td>09-09-2013</td>\n",
       "      <td>16</td>\n",
       "      <td>520</td>\n",
       "      <td>...</td>\n",
       "      <td>6</td>\n",
       "      <td>0</td>\n",
       "      <td>0</td>\n",
       "      <td>0</td>\n",
       "      <td>0</td>\n",
       "      <td>0</td>\n",
       "      <td>0</td>\n",
       "      <td>3</td>\n",
       "      <td>11</td>\n",
       "      <td>0</td>\n",
       "    </tr>\n",
       "    <tr>\n",
       "      <th>6</th>\n",
       "      <td>965</td>\n",
       "      <td>1971</td>\n",
       "      <td>Graduation</td>\n",
       "      <td>Divorced</td>\n",
       "      <td>55635.0</td>\n",
       "      <td>0</td>\n",
       "      <td>1</td>\n",
       "      <td>13-11-2012</td>\n",
       "      <td>34</td>\n",
       "      <td>235</td>\n",
       "      <td>...</td>\n",
       "      <td>6</td>\n",
       "      <td>0</td>\n",
       "      <td>0</td>\n",
       "      <td>0</td>\n",
       "      <td>0</td>\n",
       "      <td>0</td>\n",
       "      <td>0</td>\n",
       "      <td>3</td>\n",
       "      <td>11</td>\n",
       "      <td>0</td>\n",
       "    </tr>\n",
       "    <tr>\n",
       "      <th>7</th>\n",
       "      <td>6177</td>\n",
       "      <td>1985</td>\n",
       "      <td>PhD</td>\n",
       "      <td>Married</td>\n",
       "      <td>33454.0</td>\n",
       "      <td>1</td>\n",
       "      <td>0</td>\n",
       "      <td>08-05-2013</td>\n",
       "      <td>32</td>\n",
       "      <td>76</td>\n",
       "      <td>...</td>\n",
       "      <td>8</td>\n",
       "      <td>0</td>\n",
       "      <td>0</td>\n",
       "      <td>0</td>\n",
       "      <td>0</td>\n",
       "      <td>0</td>\n",
       "      <td>0</td>\n",
       "      <td>3</td>\n",
       "      <td>11</td>\n",
       "      <td>0</td>\n",
       "    </tr>\n",
       "    <tr>\n",
       "      <th>8</th>\n",
       "      <td>4855</td>\n",
       "      <td>1974</td>\n",
       "      <td>PhD</td>\n",
       "      <td>Together</td>\n",
       "      <td>30351.0</td>\n",
       "      <td>1</td>\n",
       "      <td>0</td>\n",
       "      <td>06-06-2013</td>\n",
       "      <td>19</td>\n",
       "      <td>14</td>\n",
       "      <td>...</td>\n",
       "      <td>9</td>\n",
       "      <td>0</td>\n",
       "      <td>0</td>\n",
       "      <td>0</td>\n",
       "      <td>0</td>\n",
       "      <td>0</td>\n",
       "      <td>0</td>\n",
       "      <td>3</td>\n",
       "      <td>11</td>\n",
       "      <td>1</td>\n",
       "    </tr>\n",
       "    <tr>\n",
       "      <th>9</th>\n",
       "      <td>5899</td>\n",
       "      <td>1950</td>\n",
       "      <td>PhD</td>\n",
       "      <td>Together</td>\n",
       "      <td>5648.0</td>\n",
       "      <td>1</td>\n",
       "      <td>1</td>\n",
       "      <td>13-03-2014</td>\n",
       "      <td>68</td>\n",
       "      <td>28</td>\n",
       "      <td>...</td>\n",
       "      <td>20</td>\n",
       "      <td>1</td>\n",
       "      <td>0</td>\n",
       "      <td>0</td>\n",
       "      <td>0</td>\n",
       "      <td>0</td>\n",
       "      <td>0</td>\n",
       "      <td>3</td>\n",
       "      <td>11</td>\n",
       "      <td>0</td>\n",
       "    </tr>\n",
       "  </tbody>\n",
       "</table>\n",
       "<p>10 rows × 29 columns</p>\n",
       "</div>"
      ],
      "text/plain": [
       "     ID  Year_Birth   Education Marital_Status   Income  Kidhome  Teenhome  \\\n",
       "0  5524        1957  Graduation         Single  58138.0        0         0   \n",
       "1  2174        1954  Graduation         Single  46344.0        1         1   \n",
       "2  4141        1965  Graduation       Together  71613.0        0         0   \n",
       "3  6182        1984  Graduation       Together  26646.0        1         0   \n",
       "4  5324        1981         PhD        Married  58293.0        1         0   \n",
       "5  7446        1967      Master       Together  62513.0        0         1   \n",
       "6   965        1971  Graduation       Divorced  55635.0        0         1   \n",
       "7  6177        1985         PhD        Married  33454.0        1         0   \n",
       "8  4855        1974         PhD       Together  30351.0        1         0   \n",
       "9  5899        1950         PhD       Together   5648.0        1         1   \n",
       "\n",
       "  Dt_Customer  Recency  MntWines  ...  NumWebVisitsMonth  AcceptedCmp3  \\\n",
       "0  04-09-2012       58       635  ...                  7             0   \n",
       "1  08-03-2014       38        11  ...                  5             0   \n",
       "2  21-08-2013       26       426  ...                  4             0   \n",
       "3  10-02-2014       26        11  ...                  6             0   \n",
       "4  19-01-2014       94       173  ...                  5             0   \n",
       "5  09-09-2013       16       520  ...                  6             0   \n",
       "6  13-11-2012       34       235  ...                  6             0   \n",
       "7  08-05-2013       32        76  ...                  8             0   \n",
       "8  06-06-2013       19        14  ...                  9             0   \n",
       "9  13-03-2014       68        28  ...                 20             1   \n",
       "\n",
       "   AcceptedCmp4  AcceptedCmp5  AcceptedCmp1  AcceptedCmp2  Complain  \\\n",
       "0             0             0             0             0         0   \n",
       "1             0             0             0             0         0   \n",
       "2             0             0             0             0         0   \n",
       "3             0             0             0             0         0   \n",
       "4             0             0             0             0         0   \n",
       "5             0             0             0             0         0   \n",
       "6             0             0             0             0         0   \n",
       "7             0             0             0             0         0   \n",
       "8             0             0             0             0         0   \n",
       "9             0             0             0             0         0   \n",
       "\n",
       "   Z_CostContact  Z_Revenue  Response  \n",
       "0              3         11         1  \n",
       "1              3         11         0  \n",
       "2              3         11         0  \n",
       "3              3         11         0  \n",
       "4              3         11         0  \n",
       "5              3         11         0  \n",
       "6              3         11         0  \n",
       "7              3         11         0  \n",
       "8              3         11         1  \n",
       "9              3         11         0  \n",
       "\n",
       "[10 rows x 29 columns]"
      ]
     },
     "execution_count": 3,
     "metadata": {},
     "output_type": "execute_result"
    }
   ],
   "source": [
    "df = pd.read_csv('../data/marketing_campaign.csv', sep = '\\t')\n",
    "df.head(10)"
   ]
  },
  {
   "cell_type": "markdown",
   "id": "ebf0bddc-4725-41fa-9429-b3d7dc41240e",
   "metadata": {},
   "source": [
    "## Data Info"
   ]
  },
  {
   "cell_type": "code",
   "execution_count": 5,
   "id": "94ac8e58-0cae-49b4-9493-96ba6cfcf3d4",
   "metadata": {},
   "outputs": [
    {
     "name": "stdout",
     "output_type": "stream",
     "text": [
      "Shape of Data:  (2240, 29)\n"
     ]
    }
   ],
   "source": [
    "print('Shape of Data: ', df.shape)"
   ]
  },
  {
   "cell_type": "code",
   "execution_count": 6,
   "id": "ea69ca59-ddcc-4fe7-991d-eab1601adf82",
   "metadata": {},
   "outputs": [
    {
     "name": "stdout",
     "output_type": "stream",
     "text": [
      "\n",
      "Dataset Information :\n",
      "<class 'pandas.core.frame.DataFrame'>\n",
      "RangeIndex: 2240 entries, 0 to 2239\n",
      "Data columns (total 29 columns):\n",
      " #   Column               Non-Null Count  Dtype  \n",
      "---  ------               --------------  -----  \n",
      " 0   ID                   2240 non-null   int64  \n",
      " 1   Year_Birth           2240 non-null   int64  \n",
      " 2   Education            2240 non-null   object \n",
      " 3   Marital_Status       2240 non-null   object \n",
      " 4   Income               2216 non-null   float64\n",
      " 5   Kidhome              2240 non-null   int64  \n",
      " 6   Teenhome             2240 non-null   int64  \n",
      " 7   Dt_Customer          2240 non-null   object \n",
      " 8   Recency              2240 non-null   int64  \n",
      " 9   MntWines             2240 non-null   int64  \n",
      " 10  MntFruits            2240 non-null   int64  \n",
      " 11  MntMeatProducts      2240 non-null   int64  \n",
      " 12  MntFishProducts      2240 non-null   int64  \n",
      " 13  MntSweetProducts     2240 non-null   int64  \n",
      " 14  MntGoldProds         2240 non-null   int64  \n",
      " 15  NumDealsPurchases    2240 non-null   int64  \n",
      " 16  NumWebPurchases      2240 non-null   int64  \n",
      " 17  NumCatalogPurchases  2240 non-null   int64  \n",
      " 18  NumStorePurchases    2240 non-null   int64  \n",
      " 19  NumWebVisitsMonth    2240 non-null   int64  \n",
      " 20  AcceptedCmp3         2240 non-null   int64  \n",
      " 21  AcceptedCmp4         2240 non-null   int64  \n",
      " 22  AcceptedCmp5         2240 non-null   int64  \n",
      " 23  AcceptedCmp1         2240 non-null   int64  \n",
      " 24  AcceptedCmp2         2240 non-null   int64  \n",
      " 25  Complain             2240 non-null   int64  \n",
      " 26  Z_CostContact        2240 non-null   int64  \n",
      " 27  Z_Revenue            2240 non-null   int64  \n",
      " 28  Response             2240 non-null   int64  \n",
      "dtypes: float64(1), int64(25), object(3)\n",
      "memory usage: 507.6+ KB\n",
      "None\n"
     ]
    }
   ],
   "source": [
    "print(\"\\nDataset Information :\")\n",
    "print(df.info())"
   ]
  },
  {
   "cell_type": "code",
   "execution_count": 7,
   "id": "4b04613c-a79f-4c39-8281-e93e84678464",
   "metadata": {},
   "outputs": [
    {
     "name": "stdout",
     "output_type": "stream",
     "text": [
      "\n",
      "Summary statistics:\n",
      "                 ID   Year_Birth         Income      Kidhome     Teenhome  \\\n",
      "count   2240.000000  2240.000000    2216.000000  2240.000000  2240.000000   \n",
      "mean    5592.159821  1968.805804   52247.251354     0.444196     0.506250   \n",
      "std     3246.662198    11.984069   25173.076661     0.538398     0.544538   \n",
      "min        0.000000  1893.000000    1730.000000     0.000000     0.000000   \n",
      "25%     2828.250000  1959.000000   35303.000000     0.000000     0.000000   \n",
      "50%     5458.500000  1970.000000   51381.500000     0.000000     0.000000   \n",
      "75%     8427.750000  1977.000000   68522.000000     1.000000     1.000000   \n",
      "max    11191.000000  1996.000000  666666.000000     2.000000     2.000000   \n",
      "\n",
      "           Recency     MntWines    MntFruits  MntMeatProducts  \\\n",
      "count  2240.000000  2240.000000  2240.000000      2240.000000   \n",
      "mean     49.109375   303.935714    26.302232       166.950000   \n",
      "std      28.962453   336.597393    39.773434       225.715373   \n",
      "min       0.000000     0.000000     0.000000         0.000000   \n",
      "25%      24.000000    23.750000     1.000000        16.000000   \n",
      "50%      49.000000   173.500000     8.000000        67.000000   \n",
      "75%      74.000000   504.250000    33.000000       232.000000   \n",
      "max      99.000000  1493.000000   199.000000      1725.000000   \n",
      "\n",
      "       MntFishProducts  ...  NumWebVisitsMonth  AcceptedCmp3  AcceptedCmp4  \\\n",
      "count      2240.000000  ...        2240.000000   2240.000000   2240.000000   \n",
      "mean         37.525446  ...           5.316518      0.072768      0.074554   \n",
      "std          54.628979  ...           2.426645      0.259813      0.262728   \n",
      "min           0.000000  ...           0.000000      0.000000      0.000000   \n",
      "25%           3.000000  ...           3.000000      0.000000      0.000000   \n",
      "50%          12.000000  ...           6.000000      0.000000      0.000000   \n",
      "75%          50.000000  ...           7.000000      0.000000      0.000000   \n",
      "max         259.000000  ...          20.000000      1.000000      1.000000   \n",
      "\n",
      "       AcceptedCmp5  AcceptedCmp1  AcceptedCmp2     Complain  Z_CostContact  \\\n",
      "count   2240.000000   2240.000000   2240.000000  2240.000000         2240.0   \n",
      "mean       0.072768      0.064286      0.013393     0.009375            3.0   \n",
      "std        0.259813      0.245316      0.114976     0.096391            0.0   \n",
      "min        0.000000      0.000000      0.000000     0.000000            3.0   \n",
      "25%        0.000000      0.000000      0.000000     0.000000            3.0   \n",
      "50%        0.000000      0.000000      0.000000     0.000000            3.0   \n",
      "75%        0.000000      0.000000      0.000000     0.000000            3.0   \n",
      "max        1.000000      1.000000      1.000000     1.000000            3.0   \n",
      "\n",
      "       Z_Revenue     Response  \n",
      "count     2240.0  2240.000000  \n",
      "mean        11.0     0.149107  \n",
      "std          0.0     0.356274  \n",
      "min         11.0     0.000000  \n",
      "25%         11.0     0.000000  \n",
      "50%         11.0     0.000000  \n",
      "75%         11.0     0.000000  \n",
      "max         11.0     1.000000  \n",
      "\n",
      "[8 rows x 26 columns]\n"
     ]
    }
   ],
   "source": [
    "print(\"\\nSummary statistics:\")\n",
    "print(df.describe())"
   ]
  },
  {
   "cell_type": "markdown",
   "id": "b85600c7-5a98-45f8-b7a0-c24000625701",
   "metadata": {},
   "source": [
    "## Data Handling"
   ]
  },
  {
   "cell_type": "code",
   "execution_count": 9,
   "id": "73e7503c-e941-4e31-82ae-e6db4fd0e064",
   "metadata": {},
   "outputs": [],
   "source": [
    "def missing_col(df):\n",
    "    col = df.columns\n",
    "    for c in col:\n",
    "        m = df[c].isnull().sum()\n",
    "        p = m/(len(df))\n",
    "        print(f'{c}: {p}')"
   ]
  },
  {
   "cell_type": "code",
   "execution_count": 10,
   "id": "36432e91-0820-41bb-8732-911ae1db2378",
   "metadata": {},
   "outputs": [
    {
     "name": "stdout",
     "output_type": "stream",
     "text": [
      "Missing values in each column: \n",
      "ID: 0.0\n",
      "Year_Birth: 0.0\n",
      "Education: 0.0\n",
      "Marital_Status: 0.0\n",
      "Income: 0.010714285714285714\n",
      "Kidhome: 0.0\n",
      "Teenhome: 0.0\n",
      "Dt_Customer: 0.0\n",
      "Recency: 0.0\n",
      "MntWines: 0.0\n",
      "MntFruits: 0.0\n",
      "MntMeatProducts: 0.0\n",
      "MntFishProducts: 0.0\n",
      "MntSweetProducts: 0.0\n",
      "MntGoldProds: 0.0\n",
      "NumDealsPurchases: 0.0\n",
      "NumWebPurchases: 0.0\n",
      "NumCatalogPurchases: 0.0\n",
      "NumStorePurchases: 0.0\n",
      "NumWebVisitsMonth: 0.0\n",
      "AcceptedCmp3: 0.0\n",
      "AcceptedCmp4: 0.0\n",
      "AcceptedCmp5: 0.0\n",
      "AcceptedCmp1: 0.0\n",
      "AcceptedCmp2: 0.0\n",
      "Complain: 0.0\n",
      "Z_CostContact: 0.0\n",
      "Z_Revenue: 0.0\n",
      "Response: 0.0\n"
     ]
    }
   ],
   "source": [
    "print('Missing values in each column: ')\n",
    "missing_col(df)"
   ]
  },
  {
   "cell_type": "code",
   "execution_count": 11,
   "id": "9d7f5dea-5789-476e-895b-5948d74b64d7",
   "metadata": {},
   "outputs": [],
   "source": [
    "df.dropna(inplace = True)"
   ]
  },
  {
   "cell_type": "code",
   "execution_count": 12,
   "id": "d336467c-ad67-4929-ab42-bf9e7153a474",
   "metadata": {},
   "outputs": [],
   "source": [
    "df.drop_duplicates(inplace = True)"
   ]
  },
  {
   "cell_type": "markdown",
   "id": "dc7f801f-71ee-48f7-8d0d-004556e67083",
   "metadata": {},
   "source": [
    "## Fix Column Inconsistencies"
   ]
  },
  {
   "cell_type": "markdown",
   "id": "76864e3d-edf3-4242-88fa-d9bafeca8b75",
   "metadata": {},
   "source": [
    "The column, 'Dt_Customer' has type 'object' It contains information abiut dates, so let's convert it to a proper format"
   ]
  },
  {
   "cell_type": "code",
   "execution_count": 15,
   "id": "1ed235f2-dcf4-4cb1-aeab-e7eca76e426d",
   "metadata": {},
   "outputs": [],
   "source": [
    "df['Dt_Customer'] = pd.to_datetime(df['Dt_Customer'], format='mixed', dayfirst=True)"
   ]
  },
  {
   "cell_type": "markdown",
   "id": "4e0730b0-215d-4172-86ac-f1adafee0a66",
   "metadata": {},
   "source": [
    "Let's create a feature to record the customers who registered early or recently by creating a tenure column"
   ]
  },
  {
   "cell_type": "markdown",
   "id": "20577abb-ef70-4745-a406-3c5904c086ac",
   "metadata": {},
   "source": [
    "## Feature Engineering"
   ]
  },
  {
   "cell_type": "code",
   "execution_count": 18,
   "id": "055ce55c-1992-4cdc-8c38-f73ffd876691",
   "metadata": {},
   "outputs": [],
   "source": [
    "max_date = df['Dt_Customer'].max()\n",
    "df['Customer_Tenure'] = (max_date - df['Dt_Customer']).dt.days"
   ]
  },
  {
   "cell_type": "code",
   "execution_count": 19,
   "id": "9c441019-3989-40c7-8f05-243462d0a69b",
   "metadata": {},
   "outputs": [],
   "source": [
    "df.drop(columns = ['ID', 'Dt_Customer'], errors = 'ignore', inplace = True)"
   ]
  },
  {
   "cell_type": "code",
   "execution_count": 20,
   "id": "e170a2b0-7bd6-4676-854a-56b3c1e3842f",
   "metadata": {},
   "outputs": [],
   "source": [
    "df.to_csv('../processed/processed_customers_raw.csv', index=False)"
   ]
  },
  {
   "cell_type": "markdown",
   "id": "3db1e652-4897-4b0b-aa7b-26f5a92514f0",
   "metadata": {},
   "source": [
    "After performing EDA, we found that  'Z_CostContact', 'Z_Revenue' columns are not correlated to any of the other columns. Hence, we'll drop them."
   ]
  },
  {
   "cell_type": "code",
   "execution_count": 22,
   "id": "f268ecd1-9998-4618-9fd6-52951f8bb227",
   "metadata": {},
   "outputs": [],
   "source": [
    "df.drop(columns = ['Z_CostContact', 'Z_Revenue'], errors = 'ignore', inplace = True)"
   ]
  },
  {
   "cell_type": "code",
   "execution_count": 23,
   "id": "680442be-17cd-43d8-8ea3-dffde60dff12",
   "metadata": {},
   "outputs": [],
   "source": [
    "df['Total_Spend'] = df[[\n",
    "    'MntWines', 'MntFruits', 'MntMeatProducts',\n",
    "    'MntFishProducts', 'MntSweetProducts', 'MntGoldProds'\n",
    "]].sum(axis=1)"
   ]
  },
  {
   "cell_type": "code",
   "execution_count": 24,
   "id": "bc7405dc-9b0b-41a2-91d4-51dcf433fbb9",
   "metadata": {},
   "outputs": [],
   "source": [
    "df.drop(columns = ['MntWines', 'MntFruits', 'MntMeatProducts','MntFishProducts', 'MntSweetProducts', 'MntGoldProds'], inplace = True)"
   ]
  },
  {
   "cell_type": "markdown",
   "id": "29076179-42ba-4822-8f95-635a74b04e4c",
   "metadata": {},
   "source": [
    "### Refined Family_Size based on marital status"
   ]
  },
  {
   "cell_type": "code",
   "execution_count": 26,
   "id": "78091190-7158-4635-8ea1-69b622267694",
   "metadata": {},
   "outputs": [],
   "source": [
    "def calculate_family_size(row):\n",
    "    if row['Marital_Status'] == 'Partnered':\n",
    "        return 2 + row['Kidhome'] + row['Teenhome']\n",
    "    else:\n",
    "        return 1 + row['Kidhome'] + row['Teenhome']\n",
    "\n",
    "df['Family_Size'] = df.apply(calculate_family_size, axis=1)"
   ]
  },
  {
   "cell_type": "code",
   "execution_count": 27,
   "id": "ba876c59-57f2-477b-b437-e325bd5c948c",
   "metadata": {},
   "outputs": [],
   "source": [
    "df.drop(columns = ['Kidhome', 'Teenhome'], inplace = True)"
   ]
  },
  {
   "cell_type": "code",
   "execution_count": 28,
   "id": "fc6600b8-7be7-42c2-a155-3db0daead4dd",
   "metadata": {},
   "outputs": [],
   "source": [
    "df['Marital_Status'] = df['Marital_Status'].replace({\n",
    "    'Married': 'Partnered',\n",
    "    'Together': 'Partnered',\n",
    "    'Single': 'Single',\n",
    "    'Divorced': 'Single',\n",
    "    'Widow': 'Single',\n",
    "    'Alone': 'Single',\n",
    "    'Absurd': 'Other',\n",
    "    'YOLO': 'Other'\n",
    "})"
   ]
  },
  {
   "cell_type": "code",
   "execution_count": 29,
   "id": "15e04f52-c2c6-4ec0-a1f5-71c794eb1364",
   "metadata": {},
   "outputs": [],
   "source": [
    "df['Total_Campaigns_Accepted'] = df[['AcceptedCmp1', 'AcceptedCmp2', 'AcceptedCmp3', 'AcceptedCmp4', 'AcceptedCmp5']].sum(axis=1)"
   ]
  },
  {
   "cell_type": "code",
   "execution_count": 30,
   "id": "52218646-8d73-441c-aa16-95d6eaaa1815",
   "metadata": {},
   "outputs": [],
   "source": [
    "df.drop(columns = ['AcceptedCmp1', 'AcceptedCmp2', 'AcceptedCmp3', 'AcceptedCmp4', 'AcceptedCmp5'], inplace = True)"
   ]
  },
  {
   "cell_type": "markdown",
   "id": "06357c89-8771-4f17-9d9c-9356e5850d89",
   "metadata": {},
   "source": [
    "Let's create a new feature called 'Age' using 'Year-Birth'"
   ]
  },
  {
   "cell_type": "code",
   "execution_count": 32,
   "id": "feef98cd-e5a1-48f5-8df7-09354cebc3bd",
   "metadata": {},
   "outputs": [
    {
     "data": {
      "text/plain": [
       "1996"
      ]
     },
     "execution_count": 32,
     "metadata": {},
     "output_type": "execute_result"
    }
   ],
   "source": [
    "df['Year_Birth'].max()"
   ]
  },
  {
   "cell_type": "markdown",
   "id": "c75e7d29-6fe2-4ea0-aee0-6b88e265bb81",
   "metadata": {},
   "source": [
    "We'll take max date as the reference to calculate the age of the customer"
   ]
  },
  {
   "cell_type": "code",
   "execution_count": 34,
   "id": "f9dcafbe-b66b-4dea-b12d-cfd98dd87c73",
   "metadata": {},
   "outputs": [],
   "source": [
    "df['Age'] = max_date.year - df['Year_Birth']"
   ]
  },
  {
   "cell_type": "code",
   "execution_count": 35,
   "id": "d6a8995f-6fb3-4764-a032-0047332a79b4",
   "metadata": {},
   "outputs": [],
   "source": [
    "df.drop(columns = ['Year_Birth'], inplace = True)"
   ]
  },
  {
   "cell_type": "markdown",
   "id": "d441fbc8-b259-4fea-b5f6-2bae7d3aa095",
   "metadata": {},
   "source": [
    "Let's save a non-scaled version of the data so that later we can use it to analyse each cluster"
   ]
  },
  {
   "cell_type": "code",
   "execution_count": 37,
   "id": "e56971b6-2338-447e-8d65-07f030239afc",
   "metadata": {},
   "outputs": [],
   "source": [
    "df.to_csv('../processed/processed_customers_unscaled.csv', index = False)"
   ]
  },
  {
   "cell_type": "markdown",
   "id": "04cd08db-5d94-4dd2-8185-d5631fc12bd5",
   "metadata": {},
   "source": [
    "## Encoding Categorical Columns"
   ]
  },
  {
   "cell_type": "code",
   "execution_count": 39,
   "id": "b067443c-6cac-4ff2-bad6-7be9bdf0b84c",
   "metadata": {},
   "outputs": [],
   "source": [
    "df = pd.get_dummies(df, columns = ['Education', 'Marital_Status'], drop_first = True)"
   ]
  },
  {
   "cell_type": "code",
   "execution_count": 40,
   "id": "a32dd32e-7759-47c5-aca7-b82fd7eeae95",
   "metadata": {},
   "outputs": [
    {
     "data": {
      "text/plain": [
       "Index(['Income', 'Recency', 'NumDealsPurchases', 'NumWebPurchases',\n",
       "       'NumCatalogPurchases', 'NumStorePurchases', 'NumWebVisitsMonth',\n",
       "       'Complain', 'Response', 'Customer_Tenure', 'Total_Spend', 'Family_Size',\n",
       "       'Total_Campaigns_Accepted', 'Age', 'Education_Basic',\n",
       "       'Education_Graduation', 'Education_Master', 'Education_PhD',\n",
       "       'Marital_Status_Partnered', 'Marital_Status_Single'],\n",
       "      dtype='object')"
      ]
     },
     "execution_count": 40,
     "metadata": {},
     "output_type": "execute_result"
    }
   ],
   "source": [
    "df.columns"
   ]
  },
  {
   "cell_type": "markdown",
   "id": "f1a66529-f90c-438b-a642-6c36750f1a4f",
   "metadata": {},
   "source": [
    "## Scaling"
   ]
  },
  {
   "cell_type": "code",
   "execution_count": 42,
   "id": "97e4a9bc-c306-4fb3-a489-4b0535b0796e",
   "metadata": {},
   "outputs": [],
   "source": [
    "scaler = StandardScaler()\n",
    "scaled = scaler.fit_transform(df)\n",
    "\n",
    "df_scaled = pd.DataFrame(scaled, columns = df.columns)\n",
    "df_scaled.to_csv('../processed/processed_customers.csv', index=False)"
   ]
  },
  {
   "cell_type": "code",
   "execution_count": null,
   "id": "0210e4ab-a5ed-4ecf-9fa1-82306de38f94",
   "metadata": {},
   "outputs": [],
   "source": []
  }
 ],
 "metadata": {
  "kernelspec": {
   "display_name": "Python [conda env:base] *",
   "language": "python",
   "name": "conda-base-py"
  },
  "language_info": {
   "codemirror_mode": {
    "name": "ipython",
    "version": 3
   },
   "file_extension": ".py",
   "mimetype": "text/x-python",
   "name": "python",
   "nbconvert_exporter": "python",
   "pygments_lexer": "ipython3",
   "version": "3.12.4"
  }
 },
 "nbformat": 4,
 "nbformat_minor": 5
}
